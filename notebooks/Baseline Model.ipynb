{
 "cells": [
  {
   "cell_type": "code",
   "execution_count": null,
   "metadata": {
    "collapsed": true
   },
   "outputs": [],
   "source": [
    "import scipy.io\n",
    "img_features = scipy.io.loadmat('Features.mat')['out']\n",
    "bb_features = scipy.io.loadmat('baseline_bb_vgg.mat')['out']\n",
    "spatial_features = scipy.io.loadmat('5Dvec.mat')['out']"
   ]
  },
  {
   "cell_type": "code",
   "execution_count": null,
   "metadata": {
    "collapsed": true
   },
   "outputs": [],
   "source": [
    "import numpy as np\n",
    "image_feat = np.split(img_features[0],16200)\n",
    "image_feat = np.asarray(image_feat)\n",
    "print image_feat.shape"
   ]
  },
  {
   "cell_type": "code",
   "execution_count": null,
   "metadata": {
    "collapsed": true
   },
   "outputs": [],
   "source": [
    "bb_feat = np.split(bb_features[0],16200)\n",
    "bb_feat = np.asarray(bb_feat)\n",
    "print bb_feat.shape"
   ]
  },
  {
   "cell_type": "code",
   "execution_count": null,
   "metadata": {
    "collapsed": true
   },
   "outputs": [],
   "source": [
    "spatial_feat = spatial_features[:16200]\n",
    "print spatial_feat.shape"
   ]
  },
  {
   "cell_type": "code",
   "execution_count": 7,
   "metadata": {
    "collapsed": false
   },
   "outputs": [
    {
     "name": "stderr",
     "output_type": "stream",
     "text": [
      "Using Theano backend.\n",
      "Using gpu device 0: GeForce GTX 1080 (CNMeM is disabled, cuDNN 5105)\n"
     ]
    }
   ],
   "source": [
    "from keras.models import Sequential\n",
    "from keras.layers.core import Flatten, Dense, Dropout, RepeatVector\n",
    "from keras.layers.convolutional import Convolution2D, MaxPooling2D, ZeroPadding2D\n",
    "from keras.layers.embeddings import Embedding\n",
    "from keras.layers.recurrent import LSTM\n",
    "from keras.layers.wrappers import TimeDistributed\n",
    "from keras.layers import Merge\n",
    "from keras.optimizers import SGD\n",
    "from keras.layers.core import Activation\n",
    "import numpy as np\n",
    "import h5py"
   ]
  },
  {
   "cell_type": "code",
   "execution_count": 8,
   "metadata": {
    "collapsed": false
   },
   "outputs": [
    {
     "name": "stdout",
     "output_type": "stream",
     "text": [
      "Image model made.\n"
     ]
    }
   ],
   "source": [
    "image_model = Sequential()\n",
    "image_model.add(Dense(1000, input_dim=4096, activation=\"linear\"))\n",
    "\n",
    "bb_model = Sequential()\n",
    "bb_model.add(Dense(1000, input_dim=4096, activation=\"linear\"))\n",
    "\n",
    "temp_image_model = Sequential()\n",
    "temp_image_model.add(Merge([image_model, bb_model], mode='concat', concat_axis=-1))\n",
    "\n",
    "spatial_model = Sequential()\n",
    "spatial_model.add(Dense(5, input_dim=5, activation=\"linear\"))\n",
    "\n",
    "net_image_model = Sequential()\n",
    "net_image_model.add(Merge([temp_image_model, spatial_model], mode='concat', concat_axis=-1))\n",
    "net_image_model.add(RepeatVector(40))\n",
    "print \"Image model made.\""
   ]
  },
  {
   "cell_type": "code",
   "execution_count": 9,
   "metadata": {
    "collapsed": false
   },
   "outputs": [
    {
     "name": "stdout",
     "output_type": "stream",
     "text": [
      "Preparing Language Model.\n",
      "Language Model set.\n"
     ]
    }
   ],
   "source": [
    "vocab_size = 10000\n",
    "max_caption_len = 40\n",
    "\n",
    "print \"Preparing Language Model.\"\n",
    "language_model = Sequential()\n",
    "language_model.add(Embedding(vocab_size,512, input_length=max_caption_len))\n",
    "language_model.add(LSTM(output_dim=512, return_sequences=True))\n",
    "language_model.add(TimeDistributed(Dense(512)))\n",
    "# language_model.output\n",
    "print \"Language Model set.\""
   ]
  },
  {
   "cell_type": "code",
   "execution_count": 11,
   "metadata": {
    "collapsed": false
   },
   "outputs": [
    {
     "name": "stdout",
     "output_type": "stream",
     "text": [
      "Merging Language and Image Model\n",
      "Models merged...\n"
     ]
    }
   ],
   "source": [
    "print \"Merging Language and Image Model\"\n",
    "full_model = Sequential()\n",
    "full_model.add(Merge([net_image_model, language_model], mode='concat', concat_axis=-1))\n",
    "full_model.add(LSTM(512, return_sequences=False))\n",
    "full_model.add(Dense(10000))\n",
    "full_model.add(Activation('softmax'))\n",
    "print \"Models merged...\""
   ]
  },
  {
   "cell_type": "code",
   "execution_count": 12,
   "metadata": {
    "collapsed": false
   },
   "outputs": [
    {
     "name": "stdout",
     "output_type": "stream",
     "text": [
      "loading language features\n",
      "Language features loaded..\n"
     ]
    }
   ],
   "source": [
    "print \"loading language features\"\n",
    "partial_cap = scipy.io.loadmat('partial_cap.mat')['out']\n",
    "next_words = scipy.io.loadmat('next_words.mat')['out']\n",
    "\n",
    "print \"Language features loaded..\""
   ]
  },
  {
   "cell_type": "code",
   "execution_count": 8,
   "metadata": {
    "collapsed": false
   },
   "outputs": [
    {
     "name": "stdout",
     "output_type": "stream",
     "text": [
      "(16200, 40) (16200, 10000)\n"
     ]
    }
   ],
   "source": [
    "partial_cap = partial_cap[:16200]\n",
    "next_words = next_words[:16200]\n",
    "print partial_cap.shape, next_words.shape"
   ]
  },
  {
   "cell_type": "code",
   "execution_count": 9,
   "metadata": {
    "collapsed": true
   },
   "outputs": [],
   "source": [
    "full_model.compile(loss='categorical_crossentropy', optimizer='rmsprop')"
   ]
  },
  {
   "cell_type": "code",
   "execution_count": null,
   "metadata": {
    "collapsed": false
   },
   "outputs": [
    {
     "name": "stdout",
     "output_type": "stream",
     "text": [
      "Epoch 1/20\n",
      "  256/16200 [..............................] - ETA: 1805s - loss: 63.6818"
     ]
    }
   ],
   "source": [
    "full_model.fit([feat, partial_cap], next_words, batch_size=16, nb_epoch=100)"
   ]
  },
  {
   "cell_type": "code",
   "execution_count": 11,
   "metadata": {
    "collapsed": true
   },
   "outputs": [],
   "source": [
    "full_model.save('baseline_weights_final.h')"
   ]
  },
  {
   "cell_type": "code",
   "execution_count": null,
   "metadata": {
    "collapsed": true
   },
   "outputs": [],
   "source": []
  }
 ],
 "metadata": {
  "kernelspec": {
   "display_name": "Python 2",
   "language": "python",
   "name": "python2"
  },
  "language_info": {
   "codemirror_mode": {
    "name": "ipython",
    "version": 2
   },
   "file_extension": ".py",
   "mimetype": "text/x-python",
   "name": "python",
   "nbconvert_exporter": "python",
   "pygments_lexer": "ipython2",
   "version": "2.7.12"
  }
 },
 "nbformat": 4,
 "nbformat_minor": 1
}
