{
 "cells": [
  {
   "cell_type": "code",
   "execution_count": 1,
   "metadata": {
    "collapsed": false
   },
   "outputs": [
    {
     "name": "stderr",
     "output_type": "stream",
     "text": [
      "Using Theano backend.\n",
      "Using gpu device 0: GeForce GTX 1080 (CNMeM is disabled, cuDNN 5105)\n"
     ]
    }
   ],
   "source": [
    "from keras.layers.core import Flatten\n",
    "from keras.models import Sequential\n",
    "from keras.layers.core import Dense, Dropout, RepeatVector\n",
    "from keras.layers.convolutional import Convolution2D, MaxPooling2D, ZeroPadding2D\n",
    "from keras.layers.embeddings import Embedding\n",
    "from keras.layers.recurrent import LSTM\n",
    "from keras.layers.wrappers import TimeDistributed\n",
    "from keras.layers import Merge\n",
    "from keras.optimizers import SGD\n",
    "from keras.layers.core import Activation\n",
    "import numpy as np\n",
    "import h5py"
   ]
  },
  {
   "cell_type": "code",
   "execution_count": 2,
   "metadata": {
    "collapsed": false
   },
   "outputs": [
    {
     "name": "stderr",
     "output_type": "stream",
     "text": [
      "/usr/local/lib/python2.7/dist-packages/keras/backend/theano_backend.py:1282: UserWarning: DEPRECATION: the 'ds' parameter is not going to exist anymore as it is going to be replaced by the parameter 'ws'.\n",
      "  mode='max')\n",
      "/usr/local/lib/python2.7/dist-packages/keras/backend/theano_backend.py:1282: UserWarning: DEPRECATION: the 'st' parameter is not going to exist anymore as it is going to be replaced by the parameter 'stride'.\n",
      "  mode='max')\n",
      "/usr/local/lib/python2.7/dist-packages/keras/backend/theano_backend.py:1282: UserWarning: DEPRECATION: the 'padding' parameter is not going to exist anymore as it is going to be replaced by the parameter 'pad'.\n",
      "  mode='max')\n"
     ]
    }
   ],
   "source": [
    "image_model = Sequential()\n",
    "image_model.add(ZeroPadding2D((1,1),input_shape=(3,224,224)))\n",
    "image_model.add(Convolution2D(64, 3, 3, activation='relu'))\n",
    "image_model.add(ZeroPadding2D((1,1)))\n",
    "image_model.add(Convolution2D(64, 3, 3, activation='relu'))\n",
    "image_model.add(MaxPooling2D((2,2), strides=(2,2)))\n",
    "\n",
    "image_model.add(ZeroPadding2D((1,1)))\n",
    "image_model.add(Convolution2D(128, 3, 3, activation='relu'))\n",
    "image_model.add(ZeroPadding2D((1,1)))\n",
    "image_model.add(Convolution2D(128, 3, 3, activation='relu'))\n",
    "image_model.add(MaxPooling2D((2,2), strides=(2,2)))\n",
    "\n",
    "image_model.add(ZeroPadding2D((1,1)))\n",
    "image_model.add(Convolution2D(256, 3, 3, activation='relu'))\n",
    "image_model.add(ZeroPadding2D((1,1)))\n",
    "image_model.add(Convolution2D(256, 3, 3, activation='relu'))\n",
    "image_model.add(ZeroPadding2D((1,1)))\n",
    "image_model.add(Convolution2D(256, 3, 3, activation='relu'))\n",
    "image_model.add(MaxPooling2D((2,2), strides=(2,2)))\n",
    "\n",
    "image_model.add(ZeroPadding2D((1,1)))\n",
    "image_model.add(Convolution2D(512, 3, 3, activation='relu'))\n",
    "image_model.add(ZeroPadding2D((1,1)))\n",
    "image_model.add(Convolution2D(512, 3, 3, activation='relu'))\n",
    "image_model.add(ZeroPadding2D((1,1)))\n",
    "image_model.add(Convolution2D(512, 3, 3, activation='relu'))\n",
    "image_model.add(MaxPooling2D((2,2), strides=(2,2)))\n",
    "\n",
    "image_model.add(ZeroPadding2D((1,1)))\n",
    "image_model.add(Convolution2D(512, 3, 3, activation='relu'))\n",
    "image_model.add(ZeroPadding2D((1,1)))\n",
    "image_model.add(Convolution2D(512, 3, 3, activation='relu'))\n",
    "image_model.add(ZeroPadding2D((1,1)))\n",
    "image_model.add(Convolution2D(512, 3, 3, activation='relu'))\n",
    "image_model.add(MaxPooling2D((2,2), strides=(2,2)))\n",
    "\n",
    "image_model.add(Flatten())\n",
    "image_model.add(Dense(4096, activation='relu'))\n",
    "image_model.add(Dropout(0.5))\n",
    "image_model.add(Dense(4096, activation='relu'))\n",
    "# image_model.summary()"
   ]
  },
  {
   "cell_type": "code",
   "execution_count": 3,
   "metadata": {
    "collapsed": false
   },
   "outputs": [
    {
     "name": "stdout",
     "output_type": "stream",
     "text": [
      "VGG Loaded with pre-trained weights.\n"
     ]
    }
   ],
   "source": [
    "f = h5py.File('vgg16_weights.h5')\n",
    "for k in range(f.attrs['nb_layers']):\n",
    "    if k >= 35:\n",
    "        # we don't look at the last (fully-connected) layers in the savefile\n",
    "        break\n",
    "#     print k\n",
    "    g = f['layer_{}'.format(k)]\n",
    "    weights = [g['param_{}'.format(p)] for p in range(g.attrs['nb_params'])]\n",
    "    image_model.layers[k].set_weights(weights)\n",
    "f.close()\n",
    "print \"VGG Loaded with pre-trained weights.\""
   ]
  },
  {
   "cell_type": "markdown",
   "metadata": {},
   "source": [
    "### Extracting Image Features"
   ]
  },
  {
   "cell_type": "code",
   "execution_count": 4,
   "metadata": {
    "collapsed": false
   },
   "outputs": [],
   "source": [
    "import scipy.io\n",
    "Images = scipy.io.loadmat('Images.mat')['out']"
   ]
  },
  {
   "cell_type": "code",
   "execution_count": 5,
   "metadata": {
    "collapsed": false
   },
   "outputs": [],
   "source": [
    "sgd = SGD(lr=0.1, decay=1e-6, momentum=0.9, nesterov=True)\n",
    "image_model.compile(optimizer=sgd, loss='categorical_crossentropy')"
   ]
  },
  {
   "cell_type": "code",
   "execution_count": 6,
   "metadata": {
    "collapsed": false
   },
   "outputs": [
    {
     "name": "stdout",
     "output_type": "stream",
     "text": [
      "<type 'numpy.ndarray'> (1, 16200)\n"
     ]
    }
   ],
   "source": [
    "Images = Images[:16200]\n",
    "print type(Images), Images.shape"
   ]
  },
  {
   "cell_type": "code",
   "execution_count": 7,
   "metadata": {
    "collapsed": false
   },
   "outputs": [],
   "source": [
    "import time\n",
    "# from tqdm import tqdm\n",
    "feat = []\n",
    "for i in range(0,810):\n",
    "    feat = np.append(feat,image_model.predict(Images[i*20:(i*20+20)])) \n",
    "    time.sleep(1)"
   ]
  },
  {
   "cell_type": "code",
   "execution_count": 9,
   "metadata": {
    "collapsed": false
   },
   "outputs": [
    {
     "name": "stdout",
     "output_type": "stream",
     "text": [
      "Saving Feature array\n",
      "Data Saved\n"
     ]
    }
   ],
   "source": [
    "print \"Saving Feature array\"\n",
    "matfile = 'Features.mat'\n",
    "scipy.io.savemat(matfile, mdict={'out': feat}, oned_as='row')\n",
    "print \"Data Saved\""
   ]
  },
  {
   "cell_type": "markdown",
   "metadata": {
    "collapsed": true
   },
   "source": [
    "### Extracting Bounding box features"
   ]
  },
  {
   "cell_type": "code",
   "execution_count": 4,
   "metadata": {
    "collapsed": true
   },
   "outputs": [],
   "source": [
    "import scipy.io\n",
    "bb_data = scipy.io.loadmat('baseline_bb.mat')['out']"
   ]
  },
  {
   "cell_type": "code",
   "execution_count": 5,
   "metadata": {
    "collapsed": true
   },
   "outputs": [],
   "source": [
    "sgd = SGD(lr=0.1, decay=1e-6, momentum=0.9, nesterov=True)\n",
    "image_model.compile(optimizer=sgd, loss='categorical_crossentropy')"
   ]
  },
  {
   "cell_type": "code",
   "execution_count": 6,
   "metadata": {
    "collapsed": false
   },
   "outputs": [
    {
     "name": "stdout",
     "output_type": "stream",
     "text": [
      "(16200, 3, 224, 224)\n"
     ]
    }
   ],
   "source": [
    "bb_data = bb_data[:16200]\n",
    "print bb_data.shape"
   ]
  },
  {
   "cell_type": "code",
   "execution_count": 7,
   "metadata": {
    "collapsed": false
   },
   "outputs": [],
   "source": [
    "import time\n",
    "# from tqdm import tqdm\n",
    "bb_feat = []\n",
    "for i in range(0,162):\n",
    "    bb_feat = np.append(bb_feat,image_model.predict(bb_data[i*100:(i*100+100)])) \n",
    "    time.sleep(1)"
   ]
  },
  {
   "cell_type": "code",
   "execution_count": 8,
   "metadata": {
    "collapsed": false
   },
   "outputs": [
    {
     "name": "stdout",
     "output_type": "stream",
     "text": [
      "Savind bounding box features\n",
      "Data Saved\n"
     ]
    }
   ],
   "source": [
    "print \"Savind bounding box features\"\n",
    "import scipy.io\n",
    "matfile = 'baseline_bb_vgg.mat'\n",
    "scipy.io.savemat(matfile, mdict={'out': bb_feat}, oned_as='row')\n",
    "print \"Data Saved\""
   ]
  },
  {
   "cell_type": "code",
   "execution_count": null,
   "metadata": {
    "collapsed": true
   },
   "outputs": [],
   "source": []
  }
 ],
 "metadata": {
  "kernelspec": {
   "display_name": "Python 2",
   "language": "python",
   "name": "python2"
  },
  "language_info": {
   "codemirror_mode": {
    "name": "ipython",
    "version": 2
   },
   "file_extension": ".py",
   "mimetype": "text/x-python",
   "name": "python",
   "nbconvert_exporter": "python",
   "pygments_lexer": "ipython2",
   "version": "2.7.12"
  }
 },
 "nbformat": 4,
 "nbformat_minor": 1
}
